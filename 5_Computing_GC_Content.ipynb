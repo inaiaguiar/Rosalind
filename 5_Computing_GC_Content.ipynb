{
 "cells": [
  {
   "cell_type": "markdown",
   "metadata": {},
   "source": [
    "# Computing GC Content\n",
    " \n",
    "## Problem\n",
    "\n",
    "The GC-content of a DNA string is given by the percentage of symbols in the string that are 'C' or 'G'. For example, the GC-content of \"AGCTATAG\" is 37.5%. Note that the reverse complement of any DNA string has the same GC-content.\n",
    "\n",
    "DNA strings must be labeled when they are consolidated into a database. A commonly used method of string labeling is called FASTA format. In this format, the string is introduced by a line that begins with '>', followed by some labeling information. Subsequent lines contain the string itself; the first line to begin with '>' indicates the label of the next string.\n",
    "\n",
    "In Rosalind's implementation, a string in FASTA format will be labeled by the ID \"Rosalind_xxxx\", where \"xxxx\" denotes a four-digit code between 0000 and 9999.\n",
    "\n",
    "\n",
    "Given: At most 10 DNA strings in FASTA format (of length at most 1 kbp each).\n",
    "\n",
    "Return: The ID of the string having the highest GC-content, followed by the GC-content of that string. Rosalind allows for a default error of 0.001 in all decimal answers unless otherwise stated; please see the note on absolute error below."
   ]
  },
  {
   "cell_type": "code",
   "execution_count": 85,
   "metadata": {},
   "outputs": [],
   "source": [
    "from Bio import SeqIO"
   ]
  },
  {
   "cell_type": "code",
   "execution_count": 87,
   "metadata": {},
   "outputs": [
    {
     "name": "stdout",
     "output_type": "stream",
     "text": [
      "Rosalind_6801\n",
      "53.41488277268094\n"
     ]
    }
   ],
   "source": [
    "sequence = SeqIO.parse('SampleDataset_5.fasta', 'fasta')\n",
    "count_GC = 0\n",
    "highest_CG_id = \"\"\n",
    "highest_CG_count = 0\n",
    "\n",
    "\n",
    "for seq in sequence:\n",
    "    current_seq = seq.id\n",
    "    count_GC = ((seq.count(\"G\") + seq.count(\"C\"))/len(seq.seq))*100\n",
    "    # print(count_GC)\n",
    "\n",
    "    if count_GC > highest_CG_count:\n",
    "        \n",
    "        highest_CG_count = count_GC\n",
    "        highest_CG_id = current_seq\n",
    "\n",
    "# print(highest_CG_id, highest_CG_count)\n",
    "print(highest_CG_id)\n",
    "print(highest_CG_count)"
   ]
  }
 ],
 "metadata": {
  "kernelspec": {
   "display_name": "base",
   "language": "python",
   "name": "python3"
  },
  "language_info": {
   "codemirror_mode": {
    "name": "ipython",
    "version": 3
   },
   "file_extension": ".py",
   "mimetype": "text/x-python",
   "name": "python",
   "nbconvert_exporter": "python",
   "pygments_lexer": "ipython3",
   "version": "3.11.5"
  }
 },
 "nbformat": 4,
 "nbformat_minor": 2
}
