{
 "cells": [
  {
   "cell_type": "markdown",
   "metadata": {},
   "source": [
    "# Counting Point Mutations\n",
    "\n",
    "## Problem\n",
    "\n",
    "Given two strings s and t of equal length, the Hamming distance between s and t, denoted dH(s,t), is the number of corresponding symbols that differ in s and t.\n",
    "\n",
    "Given: Two DNA strings s and t of equal length (not exceeding 1 kbp).\n",
    "\n",
    "Return: The Hamming distance dH(s,t)."
   ]
  },
  {
   "cell_type": "markdown",
   "metadata": {},
   "source": [
    "Sample Dataset\n",
    "\n",
    "GAGCCTACTAACGGGAT\n",
    "CATCGTAATGACGGCCT"
   ]
  },
  {
   "cell_type": "code",
   "execution_count": 35,
   "metadata": {},
   "outputs": [
    {
     "ename": "UnboundLocalError",
     "evalue": "cannot access local variable 'max_len' where it is not associated with a value",
     "output_type": "error",
     "traceback": [
      "\u001b[0;31m---------------------------------------------------------------------------\u001b[0m",
      "\u001b[0;31mUnboundLocalError\u001b[0m                         Traceback (most recent call last)",
      "Cell \u001b[0;32mIn[35], line 12\u001b[0m\n\u001b[1;32m      9\u001b[0m         max_len \u001b[38;5;241m=\u001b[39m max_len \u001b[38;5;241m+\u001b[39m \u001b[38;5;241m1\u001b[39m\n\u001b[1;32m     10\u001b[0m         \u001b[38;5;28mprint\u001b[39m(max_len)\n\u001b[0;32m---> 12\u001b[0m \u001b[38;5;28mprint\u001b[39m(\u001b[43mlen_seq\u001b[49m\u001b[43m(\u001b[49m\u001b[43mstring_s\u001b[49m\u001b[43m)\u001b[49m)\n\u001b[1;32m     14\u001b[0m \u001b[38;5;66;03m# for i in max_len:\u001b[39;00m\n\u001b[1;32m     15\u001b[0m \u001b[38;5;66;03m#     if string_s[i] != string_t[i]:\u001b[39;00m\n\u001b[1;32m     16\u001b[0m \u001b[38;5;66;03m#         count_diff = count_diff + 1\u001b[39;00m\n\u001b[1;32m     17\u001b[0m \n\u001b[1;32m     18\u001b[0m \u001b[38;5;66;03m# print(count_diff)\u001b[39;00m\n",
      "Cell \u001b[0;32mIn[35], line 9\u001b[0m, in \u001b[0;36mlen_seq\u001b[0;34m(seq1)\u001b[0m\n\u001b[1;32m      7\u001b[0m \u001b[38;5;28;01mdef\u001b[39;00m \u001b[38;5;21mlen_seq\u001b[39m(seq1):\n\u001b[1;32m      8\u001b[0m     \u001b[38;5;28;01mfor\u001b[39;00m i \u001b[38;5;129;01min\u001b[39;00m seq1:\n\u001b[0;32m----> 9\u001b[0m         max_len \u001b[38;5;241m=\u001b[39m \u001b[43mmax_len\u001b[49m \u001b[38;5;241m+\u001b[39m \u001b[38;5;241m1\u001b[39m\n\u001b[1;32m     10\u001b[0m         \u001b[38;5;28mprint\u001b[39m(max_len)\n",
      "\u001b[0;31mUnboundLocalError\u001b[0m: cannot access local variable 'max_len' where it is not associated with a value"
     ]
    }
   ],
   "source": [
    "string_s = \"GAGCCTACTAACGGGAT\"\n",
    "string_t = \"CATCGTAATGACGGCCT\"\n",
    "\n",
    "max_len = 0\n",
    "count_diff = 0\n",
    "\n",
    "def len_seq(seq1):\n",
    "    for i in seq1:\n",
    "        max_len = max_len + 1\n",
    "        print(max_len)\n",
    "\n",
    "print(len_seq(string_s))\n",
    "\n",
    "# for i in max_len:\n",
    "#     if string_s[i] != string_t[i]:\n",
    "#         count_diff = count_diff + 1\n",
    "\n",
    "# print(count_diff)\n"
   ]
  },
  {
   "cell_type": "code",
   "execution_count": null,
   "metadata": {},
   "outputs": [],
   "source": []
  }
 ],
 "metadata": {
  "kernelspec": {
   "display_name": "Python 3",
   "language": "python",
   "name": "python3"
  },
  "language_info": {
   "codemirror_mode": {
    "name": "ipython",
    "version": 3
   },
   "file_extension": ".py",
   "mimetype": "text/x-python",
   "name": "python",
   "nbconvert_exporter": "python",
   "pygments_lexer": "ipython3",
   "version": "3.1.-1"
  }
 },
 "nbformat": 4,
 "nbformat_minor": 2
}
