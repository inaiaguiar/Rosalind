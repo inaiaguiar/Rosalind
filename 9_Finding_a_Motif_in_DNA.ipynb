{
 "cells": [
  {
   "cell_type": "markdown",
   "metadata": {},
   "source": [
    "# Finding a Motif in DNA\n",
    "\n",
    "## Problem\n",
    "\n",
    "Given two strings s and t, t is a substring of s if t is contained as a contiguous collection of symbols in s (as a result, t must be no longer than s).\n",
    "\n",
    "The position of a symbol in a string is the total number of symbols found to its left, including itself (e.g., the positions of all occurrences of 'U' in \"AUGCUUCAGAAAGGUCUUACG\" are 2, 5, 6, 15, 17, and 18). The symbol at position i of s is denoted by s[i].\n",
    "\n",
    "A substring of s can be represented as s[j:k], where j and k represent the starting and ending positions of the substring in s; for example, if s = \"AUGCUUCAGAAAGGUCUUACG\", then s[2:5] = \"UGCU\".\n",
    "\n",
    "The location of a substring s[j:k] is its beginning position j; note that t will have multiple locations in s if it occurs more than once as a substring of s (see the Sample below).\n",
    "\n",
    "Given: Two DNA strings s and t (each of length at most 1 kbp).\n",
    "Return: All locations of t as a substring of s.\n",
    "\n",
    "\n",
    "Sample Dataset\n",
    "GATATATGCATATACTT\n",
    "ATAT\n"
   ]
  },
  {
   "cell_type": "code",
   "execution_count": 2,
   "metadata": {},
   "outputs": [],
   "source": [
    "from Bio.Seq import Seq"
   ]
  },
  {
   "cell_type": "code",
   "execution_count": 21,
   "metadata": {},
   "outputs": [
    {
     "name": "stdout",
     "output_type": "stream",
     "text": [
      " 34 115 139 177 192 209 248 271 278 285 292 324 331 376 394 434 451 458 465 472 494 501 539 556 612 627 658 683 690 723 730 779\n"
     ]
    }
   ],
   "source": [
    "string_s = Seq(\"ATGGCGGAACTCAGTGGCGGAGGTGGCGGATATTGGCGGATGGCGGAGTTGGCGCAGTGGCGGATTCTTAATGGCGGAAGGTGGCGGAGCTGGCGGAGTTGGCGGAACCAAGGCTGGCGGATGCCAGCAGTGGCGGAATGGCGGATGGCGGACTCATGGCGGAGTGGCGGATTACTTGGCGGATGGCGGAATGGCGGATGGCGGACCATGGCGGATGGCGGACGTGGCGGAGAGGTTTGGCGGACATTGGCGGATGAAATGGCGGACGGATGGCGGATGGCGGATGGCGGATGGCGGATGGCGGATTGGCGGAGAACTTCTCCTGGCGGATGGCGGATGGCGGAGTGGCGGAGTGGCGGAATCATGTGGCGGAATTGGCGGATGGCGGACGGTTGGCGGATGGCGGATACTGGCGGAATACTGGCGGAGGCTTTGGCGGATGGCTCGTGTTGGCGGATGGCGGATGGCGGATGGCGGATGGCGGAACTAGGAATGGCGGATGGCGGATGGCGGAATTGGGTGGCGGAATTGGCGGAGATGGCGGATGTGGCGGAATGGCGGATGGCGGACTGGCGGATAGATGCATGGCGGAAGTTGGCGGATTGGCGGAGTGGCGGATGGCGGAATGGCGGATGGCGGAATGGCGGAGCCGTTATTTGGCGGATGGCGGACGTGGCGGAATTGGCGGATGGCGGATGGCGGACTGGCGGAGTGGCGGAACATGGCGGATGGCGGATGGCGGAAGATTGGCGGAAGACTGGCGGATTGGCGGAACAATTGGCGGATGGCGGAAATGGCGGACATGGCGGACATTGGCGGATTGGCGGAGACCTGGCGGAAGTGTGGCGGACTTGCCATGGCGGACTGGCGGAATTGGCGGA\")\n",
    "string_t = Seq(\"TGGCGGATG\")\n",
    "positions = []\n",
    "\n",
    "for position in range(len(string_s)):\n",
    "    if string_s[position:position+len(string_t)] == string_t:\n",
    "        positions.append(position + 1)\n",
    "\n",
    "result = \"\"\n",
    "for i in positions:\n",
    "    result = f'{result} {i}'\n",
    "\n",
    "print(result)"
   ]
  },
  {
   "cell_type": "code",
   "execution_count": null,
   "metadata": {},
   "outputs": [],
   "source": []
  }
 ],
 "metadata": {
  "kernelspec": {
   "display_name": "base",
   "language": "python",
   "name": "python3"
  },
  "language_info": {
   "codemirror_mode": {
    "name": "ipython",
    "version": 3
   },
   "file_extension": ".py",
   "mimetype": "text/x-python",
   "name": "python",
   "nbconvert_exporter": "python",
   "pygments_lexer": "ipython3",
   "version": "3.11.5"
  }
 },
 "nbformat": 4,
 "nbformat_minor": 2
}
