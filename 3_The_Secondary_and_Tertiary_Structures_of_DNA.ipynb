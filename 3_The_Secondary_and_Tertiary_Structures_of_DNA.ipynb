{
 "cells": [
  {
   "cell_type": "markdown",
   "metadata": {},
   "source": [
    "\n",
    "# The Secondary and Tertiary Structures of DNA\n",
    "\n",
    "## Problem\n",
    "\n",
    "In DNA strings, symbols 'A' and 'T' are complements of each other, as are 'C' and 'G'.\n",
    "\n",
    "The reverse complement of a DNA string s is the string sc formed by reversing the symbols of s, then taking the complement of each symbol (e.g., the reverse complement of \"GTCA\" is \"TGAC\").\n",
    "\n",
    "\n",
    "Given: A DNA string s of length at most 1000 bp.\n",
    "Return: The reverse complement sc of s."
   ]
  },
  {
   "cell_type": "markdown",
   "metadata": {},
   "source": [
    "Sample Dataset\n",
    "\n",
    "AAAACCCGGT"
   ]
  },
  {
   "cell_type": "code",
   "execution_count": 25,
   "metadata": {},
   "outputs": [
    {
     "name": "stdout",
     "output_type": "stream",
     "text": [
      "ACCGGGTTTT \n"
     ]
    }
   ],
   "source": [
    "string_s = \"AAAACCCGGT\"\n",
    "string_sc = \" \"\n",
    "\n",
    "complement = {\"A\": \"T\", \"T\": \"A\", \"C\": \"G\", \"G\": \"C\"}\n",
    "\n",
    "for i in string_s:\n",
    "    string_sc = string_sc + complement[i]\n",
    "\n",
    "string_sc = string_sc[::-1]\n",
    "\n",
    "print(string_sc)"
   ]
  }
 ],
 "metadata": {
  "kernelspec": {
   "display_name": "base",
   "language": "python",
   "name": "python3"
  },
  "language_info": {
   "codemirror_mode": {
    "name": "ipython",
    "version": 3
   },
   "file_extension": ".py",
   "mimetype": "text/x-python",
   "name": "python",
   "nbconvert_exporter": "python",
   "pygments_lexer": "ipython3",
   "version": "3.11.5"
  }
 },
 "nbformat": 4,
 "nbformat_minor": 2
}
